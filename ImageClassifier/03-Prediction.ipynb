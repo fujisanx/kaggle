{
 "cells": [
  {
   "cell_type": "code",
   "execution_count": 1,
   "metadata": {
    "collapsed": false
   },
   "outputs": [
    {
     "name": "stderr",
     "output_type": "stream",
     "text": [
      "Using TensorFlow backend.\n"
     ]
    }
   ],
   "source": [
    "import numpy as np\n",
    "import pandas as pd\n",
    "import gc\n",
    "import matplotlib.pyplot as plt\n",
    "%matplotlib inline\n",
    "\n",
    "import sys\n",
    "sys.path.append(\"/root/lib/ImageClassifier/\")\n",
    "import common_functions as my_functions"
   ]
  },
  {
   "cell_type": "markdown",
   "metadata": {},
   "source": [
    "### Network last fullyconnected layer settings"
   ]
  },
  {
   "cell_type": "code",
   "execution_count": 2,
   "metadata": {
    "collapsed": true
   },
   "outputs": [],
   "source": [
    "num_classes = 17\n",
    "last_activation = 'sigmoid'"
   ]
  },
  {
   "cell_type": "code",
   "execution_count": 3,
   "metadata": {
    "collapsed": true
   },
   "outputs": [],
   "source": [
    "import os\n",
    "#run predict and save result\n",
    "def run_predict(network_name, weights, dataset_path, flip='normal', rotate=''):\n",
    "    result_path = '../predict_results/'+weights[:-3]+'_'+flip+'_'+str(rotate)+'_'+dataset_path+'.npz'\n",
    "    print(result_path)\n",
    "\n",
    "    if os.path.exists(result_path):\n",
    "        ndarr = np.load(result_path)\n",
    "        predict = ndarr['predict']\n",
    "    else:\n",
    "        ndarr = np.load(dataset_path)\n",
    "        images = ndarr['test_images']\n",
    "        dataset = my_functions.tta_images(images, flip, rotate)\n",
    "        \n",
    "        shape = (dataset.shape[1], dataset.shape[2], dataset.shape[3])\n",
    "        model = eval('my_functions.'+network_name)(shape, num_classes, last_activation)\n",
    "        model.load_weights(weights)\n",
    "        predict = model.predict(dataset)\n",
    "        np.savez(result_path, predict=predict)\n",
    "    \n",
    "    return predict"
   ]
  },
  {
   "cell_type": "code",
   "execution_count": 4,
   "metadata": {
    "collapsed": true
   },
   "outputs": [],
   "source": [
    "preditions = []"
   ]
  },
  {
   "cell_type": "markdown",
   "metadata": {},
   "source": [
    "# 256px"
   ]
  },
  {
   "cell_type": "code",
   "execution_count": 23,
   "metadata": {
    "collapsed": true
   },
   "outputs": [],
   "source": [
    "weights = ['../fullweights/0719_1206_ResNet50_256_14_0.0818_0.9685.h5',\n",
    "                    '../fullweights/0719_1407_ResNet50_256_14_0.0816_0.9685.h5',\n",
    "                    '../fullweights/0719_1943_ResNet50_256_14_0.0818_0.9685.h5',\n",
    "                    '../fullweights/0720_0840_ResNet50_256_14_0.0818_0.9684.h5',\n",
    "                    '../fullweights/0720_1056_ResNet50_256_14_0.0816_0.9686.h5']"
   ]
  },
  {
   "cell_type": "code",
   "execution_count": 24,
   "metadata": {
    "collapsed": false,
    "scrolled": false
   },
   "outputs": [
    {
     "name": "stdout",
     "output_type": "stream",
     "text": [
      "../predict_results/../fullweights/0719_1206_ResNet50_256_14_0.0818_0.9685_normal_normal_test_256.npz.npz\n",
      "../predict_results/../fullweights/0719_1206_ResNet50_256_14_0.0818_0.9685_normal_90_test_256.npz.npz\n",
      "../predict_results/../fullweights/0719_1206_ResNet50_256_14_0.0818_0.9685_lr_normal_test_256.npz.npz\n",
      "../predict_results/../fullweights/0719_1206_ResNet50_256_14_0.0818_0.9685_lr_90_test_256.npz.npz\n",
      "../predict_results/../fullweights/0719_1206_ResNet50_256_14_0.0818_0.9685_ud_normal_test_256.npz.npz\n",
      "../predict_results/../fullweights/0719_1206_ResNet50_256_14_0.0818_0.9685_ud_90_test_256.npz.npz\n",
      "../predict_results/../fullweights/0719_1206_ResNet50_256_14_0.0818_0.9685_udlr_normal_test_256.npz.npz\n",
      "../predict_results/../fullweights/0719_1206_ResNet50_256_14_0.0818_0.9685_udlr_90_test_256.npz.npz\n",
      "../predict_results/../fullweights/0719_1407_ResNet50_256_14_0.0816_0.9685_normal_normal_test_256.npz.npz\n",
      "../predict_results/../fullweights/0719_1407_ResNet50_256_14_0.0816_0.9685_normal_90_test_256.npz.npz\n",
      "../predict_results/../fullweights/0719_1407_ResNet50_256_14_0.0816_0.9685_lr_normal_test_256.npz.npz\n",
      "../predict_results/../fullweights/0719_1407_ResNet50_256_14_0.0816_0.9685_lr_90_test_256.npz.npz\n",
      "../predict_results/../fullweights/0719_1407_ResNet50_256_14_0.0816_0.9685_ud_normal_test_256.npz.npz\n",
      "../predict_results/../fullweights/0719_1407_ResNet50_256_14_0.0816_0.9685_ud_90_test_256.npz.npz\n",
      "../predict_results/../fullweights/0719_1407_ResNet50_256_14_0.0816_0.9685_udlr_normal_test_256.npz.npz\n",
      "../predict_results/../fullweights/0719_1407_ResNet50_256_14_0.0816_0.9685_udlr_90_test_256.npz.npz\n",
      "../predict_results/../fullweights/0719_1943_ResNet50_256_14_0.0818_0.9685_normal_normal_test_256.npz.npz\n",
      "../predict_results/../fullweights/0719_1943_ResNet50_256_14_0.0818_0.9685_normal_90_test_256.npz.npz\n",
      "../predict_results/../fullweights/0719_1943_ResNet50_256_14_0.0818_0.9685_lr_normal_test_256.npz.npz\n",
      "../predict_results/../fullweights/0719_1943_ResNet50_256_14_0.0818_0.9685_lr_90_test_256.npz.npz\n",
      "../predict_results/../fullweights/0719_1943_ResNet50_256_14_0.0818_0.9685_ud_normal_test_256.npz.npz\n",
      "../predict_results/../fullweights/0719_1943_ResNet50_256_14_0.0818_0.9685_ud_90_test_256.npz.npz\n",
      "../predict_results/../fullweights/0719_1943_ResNet50_256_14_0.0818_0.9685_udlr_normal_test_256.npz.npz\n",
      "../predict_results/../fullweights/0719_1943_ResNet50_256_14_0.0818_0.9685_udlr_90_test_256.npz.npz\n",
      "../predict_results/../fullweights/0720_0840_ResNet50_256_14_0.0818_0.9684_normal_normal_test_256.npz.npz\n",
      "../predict_results/../fullweights/0720_0840_ResNet50_256_14_0.0818_0.9684_normal_90_test_256.npz.npz\n",
      "../predict_results/../fullweights/0720_0840_ResNet50_256_14_0.0818_0.9684_lr_normal_test_256.npz.npz\n",
      "../predict_results/../fullweights/0720_0840_ResNet50_256_14_0.0818_0.9684_lr_90_test_256.npz.npz\n",
      "../predict_results/../fullweights/0720_0840_ResNet50_256_14_0.0818_0.9684_ud_normal_test_256.npz.npz\n",
      "../predict_results/../fullweights/0720_0840_ResNet50_256_14_0.0818_0.9684_ud_90_test_256.npz.npz\n",
      "../predict_results/../fullweights/0720_0840_ResNet50_256_14_0.0818_0.9684_udlr_normal_test_256.npz.npz\n",
      "../predict_results/../fullweights/0720_0840_ResNet50_256_14_0.0818_0.9684_udlr_90_test_256.npz.npz\n",
      "../predict_results/../fullweights/0720_1056_ResNet50_256_14_0.0816_0.9686_normal_normal_test_256.npz.npz\n",
      "../predict_results/../fullweights/0720_1056_ResNet50_256_14_0.0816_0.9686_normal_90_test_256.npz.npz\n",
      "../predict_results/../fullweights/0720_1056_ResNet50_256_14_0.0816_0.9686_lr_normal_test_256.npz.npz\n",
      "../predict_results/../fullweights/0720_1056_ResNet50_256_14_0.0816_0.9686_lr_90_test_256.npz.npz\n",
      "../predict_results/../fullweights/0720_1056_ResNet50_256_14_0.0816_0.9686_ud_normal_test_256.npz.npz\n",
      "../predict_results/../fullweights/0720_1056_ResNet50_256_14_0.0816_0.9686_ud_90_test_256.npz.npz\n",
      "../predict_results/../fullweights/0720_1056_ResNet50_256_14_0.0816_0.9686_udlr_normal_test_256.npz.npz\n",
      "../predict_results/../fullweights/0720_1056_ResNet50_256_14_0.0816_0.9686_udlr_90_test_256.npz.npz\n",
      "../predict_results/../fullweights/0719_1206_ResNet50_256_14_0.0818_0.9685_normal_normal_test_additional_256.npz.npz\n",
      "../predict_results/../fullweights/0719_1206_ResNet50_256_14_0.0818_0.9685_normal_90_test_additional_256.npz.npz\n",
      "../predict_results/../fullweights/0719_1206_ResNet50_256_14_0.0818_0.9685_lr_normal_test_additional_256.npz.npz\n",
      "../predict_results/../fullweights/0719_1206_ResNet50_256_14_0.0818_0.9685_lr_90_test_additional_256.npz.npz\n",
      "../predict_results/../fullweights/0719_1206_ResNet50_256_14_0.0818_0.9685_ud_normal_test_additional_256.npz.npz\n",
      "../predict_results/../fullweights/0719_1206_ResNet50_256_14_0.0818_0.9685_ud_90_test_additional_256.npz.npz\n",
      "../predict_results/../fullweights/0719_1206_ResNet50_256_14_0.0818_0.9685_udlr_normal_test_additional_256.npz.npz\n",
      "../predict_results/../fullweights/0719_1206_ResNet50_256_14_0.0818_0.9685_udlr_90_test_additional_256.npz.npz\n",
      "../predict_results/../fullweights/0719_1407_ResNet50_256_14_0.0816_0.9685_normal_normal_test_additional_256.npz.npz\n",
      "../predict_results/../fullweights/0719_1407_ResNet50_256_14_0.0816_0.9685_normal_90_test_additional_256.npz.npz\n",
      "../predict_results/../fullweights/0719_1407_ResNet50_256_14_0.0816_0.9685_lr_normal_test_additional_256.npz.npz\n",
      "../predict_results/../fullweights/0719_1407_ResNet50_256_14_0.0816_0.9685_lr_90_test_additional_256.npz.npz\n",
      "../predict_results/../fullweights/0719_1407_ResNet50_256_14_0.0816_0.9685_ud_normal_test_additional_256.npz.npz\n",
      "../predict_results/../fullweights/0719_1407_ResNet50_256_14_0.0816_0.9685_ud_90_test_additional_256.npz.npz\n",
      "../predict_results/../fullweights/0719_1407_ResNet50_256_14_0.0816_0.9685_udlr_normal_test_additional_256.npz.npz\n",
      "../predict_results/../fullweights/0719_1407_ResNet50_256_14_0.0816_0.9685_udlr_90_test_additional_256.npz.npz\n",
      "../predict_results/../fullweights/0719_1943_ResNet50_256_14_0.0818_0.9685_normal_normal_test_additional_256.npz.npz\n",
      "../predict_results/../fullweights/0719_1943_ResNet50_256_14_0.0818_0.9685_normal_90_test_additional_256.npz.npz\n",
      "../predict_results/../fullweights/0719_1943_ResNet50_256_14_0.0818_0.9685_lr_normal_test_additional_256.npz.npz\n",
      "../predict_results/../fullweights/0719_1943_ResNet50_256_14_0.0818_0.9685_lr_90_test_additional_256.npz.npz\n",
      "../predict_results/../fullweights/0719_1943_ResNet50_256_14_0.0818_0.9685_ud_normal_test_additional_256.npz.npz\n",
      "../predict_results/../fullweights/0719_1943_ResNet50_256_14_0.0818_0.9685_ud_90_test_additional_256.npz.npz\n",
      "../predict_results/../fullweights/0719_1943_ResNet50_256_14_0.0818_0.9685_udlr_normal_test_additional_256.npz.npz\n",
      "../predict_results/../fullweights/0719_1943_ResNet50_256_14_0.0818_0.9685_udlr_90_test_additional_256.npz.npz\n",
      "../predict_results/../fullweights/0720_0840_ResNet50_256_14_0.0818_0.9684_normal_normal_test_additional_256.npz.npz\n",
      "../predict_results/../fullweights/0720_0840_ResNet50_256_14_0.0818_0.9684_normal_90_test_additional_256.npz.npz\n",
      "../predict_results/../fullweights/0720_0840_ResNet50_256_14_0.0818_0.9684_lr_normal_test_additional_256.npz.npz\n",
      "../predict_results/../fullweights/0720_0840_ResNet50_256_14_0.0818_0.9684_lr_90_test_additional_256.npz.npz\n",
      "../predict_results/../fullweights/0720_0840_ResNet50_256_14_0.0818_0.9684_ud_normal_test_additional_256.npz.npz\n",
      "../predict_results/../fullweights/0720_0840_ResNet50_256_14_0.0818_0.9684_ud_90_test_additional_256.npz.npz\n",
      "../predict_results/../fullweights/0720_0840_ResNet50_256_14_0.0818_0.9684_udlr_normal_test_additional_256.npz.npz\n",
      "../predict_results/../fullweights/0720_0840_ResNet50_256_14_0.0818_0.9684_udlr_90_test_additional_256.npz.npz\n",
      "../predict_results/../fullweights/0720_1056_ResNet50_256_14_0.0816_0.9686_normal_normal_test_additional_256.npz.npz\n",
      "../predict_results/../fullweights/0720_1056_ResNet50_256_14_0.0816_0.9686_normal_90_test_additional_256.npz.npz\n",
      "../predict_results/../fullweights/0720_1056_ResNet50_256_14_0.0816_0.9686_lr_normal_test_additional_256.npz.npz\n",
      "../predict_results/../fullweights/0720_1056_ResNet50_256_14_0.0816_0.9686_lr_90_test_additional_256.npz.npz\n",
      "../predict_results/../fullweights/0720_1056_ResNet50_256_14_0.0816_0.9686_ud_normal_test_additional_256.npz.npz\n",
      "../predict_results/../fullweights/0720_1056_ResNet50_256_14_0.0816_0.9686_ud_90_test_additional_256.npz.npz\n",
      "../predict_results/../fullweights/0720_1056_ResNet50_256_14_0.0816_0.9686_udlr_normal_test_additional_256.npz.npz\n",
      "../predict_results/../fullweights/0720_1056_ResNet50_256_14_0.0816_0.9686_udlr_90_test_additional_256.npz.npz\n"
     ]
    }
   ],
   "source": [
    "predictions_mean = []\n",
    "for weight in weights:\n",
    "    predictions = []\n",
    "    sw = weight.split('_')\n",
    "    cnn = sw[2]\n",
    "    shape = sw[3]\n",
    "    for flip in ['normal', 'lr', 'ud', 'udlr']:\n",
    "        for rotate in ['normal', 90]:\n",
    "            predictions.append( run_predict(cnn, weights=weight, dataset_path='test_'+str(shape)+'.npz', flip=flip, rotate=rotate) )\n",
    "    predictions_mean.append(my_functions.mean_ensemble(predictions))\n",
    "    \n",
    "predictions_additional_mean = []\n",
    "for weight in weights:\n",
    "    predictions_additional = []\n",
    "    sw = weight.split('_')\n",
    "    cnn = sw[2]\n",
    "    shape = sw[3]\n",
    "    for flip in ['normal', 'lr', 'ud', 'udlr']:\n",
    "        for rotate in ['normal', 90]:\n",
    "            predictions_additional.append( run_predict(cnn, weights=weight, dataset_path='test_additional_'+str(shape)+'.npz', flip=flip, rotate=rotate) )\n",
    "    predictions_additional_mean.append(my_functions.mean_ensemble(predictions_additional))\n",
    "            \n",
    "threshhold = []            \n",
    "for weight in weights:\n",
    "    for flip in ['normal', 'lr', 'ud', 'udlr']:\n",
    "        for rotate in ['normal', 90]:\n",
    "            result_path = weight+'_'+flip+'_'+str(rotate)+'_train_predict.npz'\n",
    "            threshhold_npz = np.load(result_path)\n",
    "            threshhold.append(threshhold_npz['threshhold'])\n",
    "           \n"
   ]
  },
  {
   "cell_type": "code",
   "execution_count": 25,
   "metadata": {
    "collapsed": false
   },
   "outputs": [
    {
     "name": "stdout",
     "output_type": "stream",
     "text": [
      "5 5\n"
     ]
    }
   ],
   "source": [
    "print(len(predictions_mean), len(predictions_additional_mean))"
   ]
  },
  {
   "cell_type": "code",
   "execution_count": 26,
   "metadata": {
    "collapsed": false
   },
   "outputs": [
    {
     "name": "stdout",
     "output_type": "stream",
     "text": [
      "[  5.10507032e-03   9.99570847e-01   1.54092154e-02   9.96734701e-01\n",
      "   5.93673272e-03   2.05813680e-03   6.40715915e-03   7.18768974e-03\n",
      "   4.70113560e-04   8.02136797e-05   1.58962793e-03   2.55193397e-04\n",
      "   7.69045808e-04   1.26249649e-04   9.16698473e-02   4.40895866e-03\n",
      "   9.08961982e-04]\n",
      "[  6.96678206e-03   9.99624155e-01   9.99520579e-03   9.95573312e-01\n",
      "   6.64934292e-03   1.11823318e-03   4.16575653e-03   5.19929154e-03\n",
      "   7.01210876e-04   2.30245211e-04   1.26087685e-03   8.75228789e-05\n",
      "   1.53803945e-03   1.81656454e-04   1.10906595e-01   9.86098219e-03\n",
      "   8.21796511e-04]\n",
      "[  1.39334439e-02   9.98901159e-01   1.37068524e-02   9.93590266e-01\n",
      "   5.90100538e-03   4.26372909e-03   3.70079066e-03   7.64819441e-03\n",
      "   8.24606919e-04   1.57758509e-04   1.98762786e-03   1.74409964e-04\n",
      "   1.89683688e-03   9.28877212e-05   9.51906769e-02   5.91230436e-03\n",
      "   1.33738018e-03]\n",
      "[  1.18707233e-02   9.98942710e-01   3.32846456e-02   9.89954248e-01\n",
      "   6.95518643e-03   1.70940314e-03   1.14758303e-02   1.31444592e-02\n",
      "   1.44008004e-03   3.35006713e-04   1.76666334e-03   2.61957193e-04\n",
      "   2.76599033e-03   5.59615110e-04   1.03334638e-01   2.21890943e-02\n",
      "   2.72531263e-03]\n",
      "[  1.91810398e-02   9.98158053e-01   3.41955898e-02   9.93158221e-01\n",
      "   6.36883813e-03   2.98032301e-03   8.49039183e-03   9.31300712e-03\n",
      "   2.28856233e-03   3.81390460e-04   7.49727478e-04   2.29801328e-04\n",
      "   1.55955751e-03   2.00204316e-04   9.78254343e-02   1.57224981e-02\n",
      "   6.46828667e-03]\n"
     ]
    }
   ],
   "source": [
    "print(predictions_mean[0][0])\n",
    "print(predictions_mean[1][0])\n",
    "print(predictions_mean[2][0])\n",
    "print(predictions_mean[3][0])\n",
    "print(predictions_mean[4][0])\n"
   ]
  },
  {
   "cell_type": "code",
   "execution_count": 27,
   "metadata": {
    "collapsed": false
   },
   "outputs": [],
   "source": [
    "predictions_mean2 = my_functions.mean_ensemble(predictions_mean)\n"
   ]
  },
  {
   "cell_type": "code",
   "execution_count": 28,
   "metadata": {
    "collapsed": false
   },
   "outputs": [
    {
     "name": "stdout",
     "output_type": "stream",
     "text": [
      "40669\n"
     ]
    }
   ],
   "source": [
    "print(len(predictions_mean2))"
   ]
  },
  {
   "cell_type": "code",
   "execution_count": 29,
   "metadata": {
    "collapsed": true
   },
   "outputs": [],
   "source": [
    "predictions_mean = my_functions.mean_ensemble(predictions_mean)\n",
    "predictions_additional_mean = my_functions.mean_ensemble(predictions_additional_mean)"
   ]
  },
  {
   "cell_type": "code",
   "execution_count": 30,
   "metadata": {
    "collapsed": false
   },
   "outputs": [
    {
     "name": "stdout",
     "output_type": "stream",
     "text": [
      "40669 20522\n"
     ]
    }
   ],
   "source": [
    "print(len(predictions_mean), len(predictions_additional_mean))"
   ]
  },
  {
   "cell_type": "markdown",
   "metadata": {},
   "source": [
    "# make submission data"
   ]
  },
  {
   "cell_type": "code",
   "execution_count": 31,
   "metadata": {
    "collapsed": true
   },
   "outputs": [],
   "source": [
    "labels = ['haze','primary', 'agriculture', 'clear', 'water', 'habitation', 'road',\n",
    " 'cultivation','slash_burn', 'cloudy', 'partly_cloudy', 'conventional_mine',\n",
    " 'bare_ground', 'artisinal_mine', 'blooming', 'selective_logging', 'blow_down']"
   ]
  },
  {
   "cell_type": "code",
   "execution_count": 32,
   "metadata": {
    "collapsed": true
   },
   "outputs": [],
   "source": [
    "thread =[0.25, 0.26, 0.23, 0.2, 0.19, 0.23, 0.3, 0.21, 0.21, 0.19, 0.2, 0.12, 0.17, 0.15, 0.28, 0.13, 0.09]"
   ]
  },
  {
   "cell_type": "code",
   "execution_count": 33,
   "metadata": {
    "collapsed": false
   },
   "outputs": [],
   "source": [
    "ndarr = np.load('test_256.npz')\n",
    "file_names = ndarr['n']\n",
    "n = []\n",
    "for file_name in file_names:\n",
    "    n.append(file_name)\n",
    "    \n",
    "ndarr = np.load('test_additional_256.npz')\n",
    "file_names = ndarr['n']\n",
    "for file_name in file_names:\n",
    "    n.append(file_name)"
   ]
  },
  {
   "cell_type": "code",
   "execution_count": 34,
   "metadata": {
    "collapsed": false
   },
   "outputs": [
    {
     "name": "stdout",
     "output_type": "stream",
     "text": [
      "8 8 40\n"
     ]
    }
   ],
   "source": [
    "print(len(predictions), len(predictions_additional), len(threshhold))"
   ]
  },
  {
   "cell_type": "code",
   "execution_count": 35,
   "metadata": {
    "collapsed": false
   },
   "outputs": [
    {
     "name": "stdout",
     "output_type": "stream",
     "text": [
      "61191\n"
     ]
    }
   ],
   "source": [
    "y = []\n",
    "for i in range(len(predictions_mean)):\n",
    "    y.append(predictions_mean[i])\n",
    "for i in range(len(predictions_additional_mean)):\n",
    "    y.append(predictions_additional_mean[i])\n",
    "    \n",
    "print(len(y))"
   ]
  },
  {
   "cell_type": "code",
   "execution_count": 36,
   "metadata": {
    "collapsed": false
   },
   "outputs": [],
   "source": [
    "weather_label = ['haze', 'cloudy', 'partly_cloudy', 'clear' ]\n",
    "r = []\n",
    "for i in range(len(y)):  #len(y)\n",
    "    y_label = ''\n",
    "    \n",
    "    test = y[i]\n",
    "    for j in range(len(labels)):\n",
    "        if test[j] > thread[j]:\n",
    "            if y_label != '':\n",
    "                y_label += ' '\n",
    "            y_label += labels[j]\n",
    "    r.append(y_label)\n",
    "\n"
   ]
  },
  {
   "cell_type": "code",
   "execution_count": 37,
   "metadata": {
    "collapsed": false
   },
   "outputs": [],
   "source": [
    "df = pd.DataFrame({'image_name':n, 'tags':r})\n",
    "df.to_csv('submit.csv', index=False)"
   ]
  },
  {
   "cell_type": "code",
   "execution_count": null,
   "metadata": {
    "collapsed": true
   },
   "outputs": [],
   "source": []
  },
  {
   "cell_type": "code",
   "execution_count": null,
   "metadata": {
    "collapsed": true
   },
   "outputs": [],
   "source": []
  },
  {
   "cell_type": "code",
   "execution_count": 41,
   "metadata": {
    "collapsed": false
   },
   "outputs": [
    {
     "name": "stdout",
     "output_type": "stream",
     "text": [
      "40 40\n"
     ]
    }
   ],
   "source": [
    "print(len(threshhold), len(predictions))"
   ]
  },
  {
   "cell_type": "code",
   "execution_count": 52,
   "metadata": {
    "collapsed": false,
    "scrolled": true
   },
   "outputs": [
    {
     "name": "stdout",
     "output_type": "stream",
     "text": [
      "loaded 0\n",
      "loaded 1000\n",
      "loaded 2000\n",
      "loaded 3000\n",
      "loaded 4000\n",
      "loaded 5000\n",
      "loaded 6000\n",
      "loaded 7000\n",
      "loaded 8000\n",
      "loaded 9000\n",
      "loaded 10000\n",
      "loaded 11000\n",
      "loaded 12000\n",
      "loaded 13000\n",
      "loaded 14000\n",
      "loaded 15000\n",
      "loaded 16000\n",
      "loaded 17000\n",
      "loaded 18000\n",
      "loaded 19000\n",
      "loaded 20000\n",
      "loaded 21000\n",
      "loaded 22000\n",
      "loaded 23000\n",
      "loaded 24000\n",
      "loaded 25000\n",
      "loaded 26000\n",
      "loaded 27000\n",
      "loaded 28000\n",
      "loaded 29000\n",
      "loaded 30000\n",
      "loaded 31000\n",
      "loaded 32000\n",
      "loaded 33000\n",
      "loaded 34000\n",
      "loaded 35000\n",
      "loaded 36000\n",
      "loaded 37000\n",
      "loaded 38000\n",
      "loaded 39000\n",
      "loaded 40000\n"
     ]
    }
   ],
   "source": [
    "rows = []\n",
    "for row in range( len(predictions[0]) ): #len(predictions)\n",
    "    col = []\n",
    "    for k in range(17):\n",
    "        for i in range( len(predictions) ):\n",
    "            pred = np.zeros(2)\n",
    "            if predictions[i][row][k] > threshhold[i][k]:\n",
    "                pred[1] += 1\n",
    "            else:\n",
    "                pred[0] += 1\n",
    "        col.append(np.argmax(pred))\n",
    "    rows.append(col)\n",
    "    \n",
    "    if row % 1000 == 0:\n",
    "        print('loaded', row)\n",
    "    \n"
   ]
  },
  {
   "cell_type": "code",
   "execution_count": 53,
   "metadata": {
    "collapsed": false,
    "scrolled": true
   },
   "outputs": [
    {
     "name": "stdout",
     "output_type": "stream",
     "text": [
      "loaded 0\n",
      "loaded 1000\n",
      "loaded 2000\n",
      "loaded 3000\n",
      "loaded 4000\n",
      "loaded 5000\n",
      "loaded 6000\n",
      "loaded 7000\n",
      "loaded 8000\n",
      "loaded 9000\n",
      "loaded 10000\n",
      "loaded 11000\n",
      "loaded 12000\n",
      "loaded 13000\n",
      "loaded 14000\n",
      "loaded 15000\n",
      "loaded 16000\n",
      "loaded 17000\n",
      "loaded 18000\n",
      "loaded 19000\n",
      "loaded 20000\n"
     ]
    }
   ],
   "source": [
    "for row in range( len(predictions_additional[0]) ): #len(predictions)\n",
    "    col = []\n",
    "    for k in range(17):\n",
    "        for i in range( len(predictions_additional) ):\n",
    "            pred = np.zeros(2)\n",
    "            if predictions_additional[i][row][k] > threshhold[i][k]:\n",
    "                pred[1] += 1\n",
    "            else:\n",
    "                pred[0] += 1\n",
    "        col.append(np.argmax(pred))\n",
    "    rows.append(col)\n",
    "    \n",
    "    if row % 1000 == 0:\n",
    "        print('loaded', row)\n",
    "    "
   ]
  },
  {
   "cell_type": "code",
   "execution_count": 54,
   "metadata": {
    "collapsed": false
   },
   "outputs": [
    {
     "name": "stdout",
     "output_type": "stream",
     "text": [
      "61191\n"
     ]
    }
   ],
   "source": [
    "print( len(rows) )"
   ]
  },
  {
   "cell_type": "code",
   "execution_count": 55,
   "metadata": {
    "collapsed": true
   },
   "outputs": [],
   "source": [
    "weather_label = ['haze', 'cloudy', 'partly_cloudy', 'clear' ]\n",
    "r = []\n",
    "for i in range(len(rows)):  #len(y)\n",
    "    y_label = ''\n",
    "    \n",
    "    test = rows[i]\n",
    "    for j in range(17):\n",
    "        if test[j] == 1:\n",
    "            if y_label != '':\n",
    "                y_label += ' '\n",
    "            y_label += labels[j]\n",
    "    r.append(y_label)\n",
    "\n"
   ]
  },
  {
   "cell_type": "code",
   "execution_count": 56,
   "metadata": {
    "collapsed": true
   },
   "outputs": [],
   "source": [
    "df = pd.DataFrame({'image_name':n, 'tags':r})\n",
    "df.to_csv('submit.csv', index=False)"
   ]
  },
  {
   "cell_type": "code",
   "execution_count": null,
   "metadata": {
    "collapsed": true
   },
   "outputs": [],
   "source": []
  }
 ],
 "metadata": {
  "kernelspec": {
   "display_name": "Python 3",
   "language": "python",
   "name": "python3"
  },
  "language_info": {
   "codemirror_mode": {
    "name": "ipython",
    "version": 3
   },
   "file_extension": ".py",
   "mimetype": "text/x-python",
   "name": "python",
   "nbconvert_exporter": "python",
   "pygments_lexer": "ipython3",
   "version": "3.5.3"
  }
 },
 "nbformat": 4,
 "nbformat_minor": 0
}
